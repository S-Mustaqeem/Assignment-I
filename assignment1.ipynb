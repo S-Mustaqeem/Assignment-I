{
 "cells": [
  {
   "cell_type": "markdown",
   "id": "62558eab-bac7-445a-8348-587472c891fb",
   "metadata": {},
   "source": [
    "#Q1. Create one variable containing following type of data:\n",
    "(i) string\n",
    "(ii) list\n",
    "(iii) float\n",
    "(iv) tuple"
   ]
  },
  {
   "cell_type": "code",
   "execution_count": 1,
   "id": "1b50a39b-bcb0-466d-ac71-b959f3b411c1",
   "metadata": {},
   "outputs": [],
   "source": [
    "a=\"mustaqeem\",[1,2,3,\"sayyed\",45.22j,False,],54.11,(645,\"sm\",True)"
   ]
  },
  {
   "cell_type": "code",
   "execution_count": 2,
   "id": "a8b970d2-60b8-4192-b6e6-9897361c95b2",
   "metadata": {},
   "outputs": [
    {
     "data": {
      "text/plain": [
       "str"
      ]
     },
     "execution_count": 2,
     "metadata": {},
     "output_type": "execute_result"
    }
   ],
   "source": [
    "type(a[0])"
   ]
  },
  {
   "cell_type": "code",
   "execution_count": 3,
   "id": "5d5c54d3-9a3c-43e5-91dd-7ba2e83e9ec7",
   "metadata": {},
   "outputs": [
    {
     "data": {
      "text/plain": [
       "list"
      ]
     },
     "execution_count": 3,
     "metadata": {},
     "output_type": "execute_result"
    }
   ],
   "source": [
    "type(a[1])"
   ]
  },
  {
   "cell_type": "code",
   "execution_count": 4,
   "id": "95823102-8f7d-4bd3-b8f1-37ac6c8abf22",
   "metadata": {},
   "outputs": [
    {
     "data": {
      "text/plain": [
       "float"
      ]
     },
     "execution_count": 4,
     "metadata": {},
     "output_type": "execute_result"
    }
   ],
   "source": [
    "type(a[2])"
   ]
  },
  {
   "cell_type": "code",
   "execution_count": 5,
   "id": "2b36847f-618c-48b4-88ae-4932d94ef239",
   "metadata": {},
   "outputs": [
    {
     "data": {
      "text/plain": [
       "tuple"
      ]
     },
     "execution_count": 5,
     "metadata": {},
     "output_type": "execute_result"
    }
   ],
   "source": [
    "type(a[3])"
   ]
  },
  {
   "cell_type": "raw",
   "id": "e1fc2102-0f88-4163-8d10-63b450f6d12b",
   "metadata": {},
   "source": []
  },
  {
   "cell_type": "markdown",
   "id": "c828191b-65fa-4aa4-a57a-0362ade25960",
   "metadata": {},
   "source": [
    "#Q2. Given are some following variables containing data:\n",
    "(i) var1 = ‘ ‘\n",
    "(ii) var2 = ‘[ DS , ML , Python]’\n",
    "(iii) var3 = [ ‘DS’ , ’ML’ , ‘Python’ ]\n",
    "(iv) var4 = 1.\n",
    "        What will be the data type of the above given variable."
   ]
  },
  {
   "cell_type": "code",
   "execution_count": 6,
   "id": "a8dfbdc3-69e6-4204-80ff-d0874f7fc544",
   "metadata": {},
   "outputs": [],
   "source": [
    "var1 =\"\""
   ]
  },
  {
   "cell_type": "code",
   "execution_count": 7,
   "id": "0c141253-b75b-42cc-8994-20c004fd5c13",
   "metadata": {},
   "outputs": [
    {
     "data": {
      "text/plain": [
       "str"
      ]
     },
     "execution_count": 7,
     "metadata": {},
     "output_type": "execute_result"
    }
   ],
   "source": [
    "type(var1)"
   ]
  },
  {
   "cell_type": "code",
   "execution_count": 8,
   "id": "b714bf55-772a-4271-904c-ebbb113b4ff4",
   "metadata": {},
   "outputs": [],
   "source": [
    "var2 = '[ DS , ML , Python]'"
   ]
  },
  {
   "cell_type": "code",
   "execution_count": 9,
   "id": "c6564d12-aa4f-4340-a97c-e2e487293861",
   "metadata": {},
   "outputs": [
    {
     "data": {
      "text/plain": [
       "str"
      ]
     },
     "execution_count": 9,
     "metadata": {},
     "output_type": "execute_result"
    }
   ],
   "source": [
    "type(var2)"
   ]
  },
  {
   "cell_type": "code",
   "execution_count": 10,
   "id": "bdeab268-767b-434d-addf-7726832822fc",
   "metadata": {},
   "outputs": [],
   "source": [
    "var3 = [ 'DS' , 'ML' , 'Python' ]"
   ]
  },
  {
   "cell_type": "code",
   "execution_count": 11,
   "id": "d09ce1ea-b2f3-4945-a7a4-38fd12a91394",
   "metadata": {},
   "outputs": [
    {
     "data": {
      "text/plain": [
       "list"
      ]
     },
     "execution_count": 11,
     "metadata": {},
     "output_type": "execute_result"
    }
   ],
   "source": [
    "type(var3)"
   ]
  },
  {
   "cell_type": "code",
   "execution_count": 12,
   "id": "7c064b02-e6b8-4deb-b4fe-911e28ac1484",
   "metadata": {},
   "outputs": [],
   "source": [
    "var4 = 1"
   ]
  },
  {
   "cell_type": "code",
   "execution_count": 13,
   "id": "2e673304-a422-49c9-96d9-4df2a947ce58",
   "metadata": {},
   "outputs": [
    {
     "data": {
      "text/plain": [
       "int"
      ]
     },
     "execution_count": 13,
     "metadata": {},
     "output_type": "execute_result"
    }
   ],
   "source": [
    "type(var4)"
   ]
  },
  {
   "cell_type": "raw",
   "id": "e1daef2a-3858-4184-8361-acdd5e7a9537",
   "metadata": {},
   "source": [
    "var1 is string\n",
    "var2 is string\n",
    "var3 is list\n",
    "var4 is integer"
   ]
  },
  {
   "cell_type": "code",
   "execution_count": null,
   "id": "5f1e7c9c-e497-4afb-909b-260f443d5e68",
   "metadata": {},
   "outputs": [],
   "source": []
  },
  {
   "cell_type": "markdown",
   "id": "4c60dae8-a668-4e0d-9364-b599040e650e",
   "metadata": {},
   "source": [
    "#Q3. Explain the use of the following operators using an example:\n",
    "(i) /\n",
    "(ii) %\n",
    "(iii) //\n",
    "(iv) **"
   ]
  },
  {
   "cell_type": "code",
   "execution_count": 14,
   "id": "c44ea4cd-7e89-451e-b7e8-1882096712a6",
   "metadata": {},
   "outputs": [
    {
     "data": {
      "text/plain": [
       "8.0"
      ]
     },
     "execution_count": 14,
     "metadata": {},
     "output_type": "execute_result"
    }
   ],
   "source": [
    "40/5"
   ]
  },
  {
   "cell_type": "raw",
   "id": "3369ec5f-5eb4-448b-895a-4b409679852b",
   "metadata": {},
   "source": [
    "/ is use for divide operation\n",
    "as above example 40 divide by 5 answer is 8"
   ]
  },
  {
   "cell_type": "code",
   "execution_count": 15,
   "id": "5d22b6f4-7752-4229-bea9-c33a17dd7813",
   "metadata": {},
   "outputs": [
    {
     "data": {
      "text/plain": [
       "5"
      ]
     },
     "execution_count": 15,
     "metadata": {},
     "output_type": "execute_result"
    }
   ],
   "source": [
    "40%7"
   ]
  },
  {
   "cell_type": "raw",
   "id": "ac59d6ba-ed6c-4cb7-93aa-82d2b0849b89",
   "metadata": {},
   "source": [
    "% is use to show the remainder after deviding\n",
    "for example if 40 is divide by 7 quotient is 5 and remainder is also 5 as shown in above example"
   ]
  },
  {
   "cell_type": "code",
   "execution_count": 16,
   "id": "4b34544a-83a4-4398-bccb-bad586ed1c85",
   "metadata": {},
   "outputs": [
    {
     "data": {
      "text/plain": [
       "3"
      ]
     },
     "execution_count": 16,
     "metadata": {},
     "output_type": "execute_result"
    }
   ],
   "source": [
    "10//3"
   ]
  },
  {
   "cell_type": "raw",
   "id": "5cfb780f-724c-4212-bb9a-fbdc837d5e7d",
   "metadata": {},
   "source": [
    "// is used to show the floor division\n",
    "floor division convert the non-integer number into integer\n",
    "for example 10 divide by 3 is equal to 3.3333 now converting 3.3333 into integer then answer is 3"
   ]
  },
  {
   "cell_type": "code",
   "execution_count": 17,
   "id": "697e4e31-9ddd-46ec-b24e-ed7349552670",
   "metadata": {},
   "outputs": [
    {
     "data": {
      "text/plain": [
       "32"
      ]
     },
     "execution_count": 17,
     "metadata": {},
     "output_type": "execute_result"
    }
   ],
   "source": [
    "2**5"
   ]
  },
  {
   "cell_type": "raw",
   "id": "eab27294-8d99-49d9-8d87-7883dbb2c690",
   "metadata": {},
   "source": [
    "** is used to show power operation\n",
    "for example 2^5 is write as 2**5 in python"
   ]
  },
  {
   "cell_type": "code",
   "execution_count": null,
   "id": "fa484fb7-192c-4811-8354-dbbeb2324c11",
   "metadata": {},
   "outputs": [],
   "source": []
  },
  {
   "cell_type": "markdown",
   "id": "5ef67d19-6519-4aa1-b240-02e3952ace5b",
   "metadata": {
    "tags": []
   },
   "source": [
    "#Q4. Create a list of length 10 of your choice containing multiple types of data. Using for loop print the\n",
    "element and its data type."
   ]
  },
  {
   "cell_type": "code",
   "execution_count": 18,
   "id": "510b07eb-835c-44c2-aba0-9101a2f3f27e",
   "metadata": {},
   "outputs": [],
   "source": [
    "a=[9,8,7,6,\"amaan\",True,23.67,41+5j,\"sayyed\",6]"
   ]
  },
  {
   "cell_type": "code",
   "execution_count": 19,
   "id": "16448b0f-9dc0-47ea-ba5f-316542b1b0e7",
   "metadata": {
    "tags": []
   },
   "outputs": [
    {
     "data": {
      "text/plain": [
       "list"
      ]
     },
     "execution_count": 19,
     "metadata": {},
     "output_type": "execute_result"
    }
   ],
   "source": [
    "type(a)"
   ]
  },
  {
   "cell_type": "code",
   "execution_count": 22,
   "id": "2a6fa6b3-a1f7-4d67-ba96-7d7a08cc8e9f",
   "metadata": {},
   "outputs": [
    {
     "data": {
      "text/plain": [
       "10"
      ]
     },
     "execution_count": 22,
     "metadata": {},
     "output_type": "execute_result"
    }
   ],
   "source": [
    "len(a)"
   ]
  },
  {
   "cell_type": "code",
   "execution_count": 24,
   "id": "dc9b23b3-dbbd-4952-88a1-1600913f17c6",
   "metadata": {
    "tags": []
   },
   "outputs": [
    {
     "name": "stdout",
     "output_type": "stream",
     "text": [
      "9\n",
      "<class 'int'>\n",
      "8\n",
      "<class 'int'>\n",
      "7\n",
      "<class 'int'>\n",
      "6\n",
      "<class 'int'>\n",
      "amaan\n",
      "<class 'str'>\n",
      "True\n",
      "<class 'bool'>\n",
      "23.67\n",
      "<class 'float'>\n",
      "(41+5j)\n",
      "<class 'complex'>\n",
      "sayyed\n",
      "<class 'str'>\n",
      "6\n",
      "<class 'int'>\n"
     ]
    }
   ],
   "source": [
    "\n",
    "for m in a:\n",
    "    print(m)\n",
    "    print(type(m))\n",
    "    \n",
    "    \n"
   ]
  },
  {
   "cell_type": "code",
   "execution_count": null,
   "id": "bb936d31-47b7-4f32-b1f1-abbf4668acf8",
   "metadata": {},
   "outputs": [],
   "source": []
  },
  {
   "cell_type": "markdown",
   "id": "f45e54a9-942b-4f7f-9e53-9467832e4184",
   "metadata": {},
   "source": [
    "#Q5. Using a while loop, verify if the number A is purely divisible by number B and if so then how many\n",
    "times it can be divisible.\n",
    "\n"
   ]
  },
  {
   "cell_type": "code",
   "execution_count": 3,
   "id": "d4649162-4244-4bf3-877d-7a4878abe084",
   "metadata": {},
   "outputs": [
    {
     "name": "stdin",
     "output_type": "stream",
     "text": [
      "enter first Number 8\n",
      "enter second Number 2\n"
     ]
    },
    {
     "name": "stdout",
     "output_type": "stream",
     "text": [
      "8 is purely divisible by 2, 3 time's\n"
     ]
    }
   ],
   "source": [
    "a = int(input('enter first Number'))\n",
    "b = int(input('enter second Number'))\n",
    "c = 0\n",
    "d = a\n",
    "while a%b == 0 and d%b == 0:\n",
    "    d//=b\n",
    "    c +=1\n",
    "if c > 0 :\n",
    "    print(f\"{a} is purely divisible by {b}, {c} time's\")\n",
    "else:\n",
    "    print(f\"{a} is not purely divisible by {b}\")"
   ]
  },
  {
   "cell_type": "code",
   "execution_count": null,
   "id": "a5c28959-c89c-47a2-bbd5-740d8fba6983",
   "metadata": {},
   "outputs": [],
   "source": []
  },
  {
   "cell_type": "markdown",
   "id": "fdc5e3b2-74d6-41a0-b89d-3e2aa9fd5044",
   "metadata": {},
   "source": [
    "\n",
    "\n",
    "\n",
    "\n",
    "#Q6) Create a list containing 25 int type data .using for loop and if-else condition print if the element is divisible by 3 or not."
   ]
  },
  {
   "cell_type": "code",
   "execution_count": 4,
   "id": "4b62972b-724e-4413-832b-b87e073a1475",
   "metadata": {},
   "outputs": [
    {
     "name": "stdout",
     "output_type": "stream",
     "text": [
      "1 is not divide by 3\n",
      "2 is not divide by 3\n",
      "3 is divide by 3\n",
      "4 is not divide by 3\n",
      "5 is not divide by 3\n",
      "6 is divide by 3\n",
      "7 is not divide by 3\n",
      "8 is not divide by 3\n",
      "9 is divide by 3\n",
      "10 is not divide by 3\n",
      "11 is not divide by 3\n",
      "12 is divide by 3\n",
      "13 is not divide by 3\n",
      "14 is not divide by 3\n",
      "15 is divide by 3\n",
      "16 is not divide by 3\n",
      "17 is not divide by 3\n",
      "18 is divide by 3\n",
      "19 is not divide by 3\n",
      "20 is not divide by 3\n",
      "21 is divide by 3\n",
      "22 is not divide by 3\n",
      "23 is not divide by 3\n",
      "24 is divide by 3\n",
      "25 is not divide by 3\n"
     ]
    }
   ],
   "source": [
    "g=[1,2,3,4,5,6,7,8,9,10,11,12,13,14,15,16,17,18,19,20,21,22,23,24,25]\n",
    "for i in g:\n",
    "    if i%3 == 0:\n",
    "        print(f\"{i} is divide by 3\")\n",
    "    else :\n",
    "              print(f\"{i} is not divide by 3\")"
   ]
  },
  {
   "cell_type": "code",
   "execution_count": null,
   "id": "b1ee223b-f9bb-4f33-8479-d4aba96fd0a8",
   "metadata": {},
   "outputs": [],
   "source": []
  },
  {
   "cell_type": "markdown",
   "id": "128718cf-5800-458e-87eb-dcca7dd0814d",
   "metadata": {},
   "source": [
    "#Q7. What do you understand about mutable and immutable data types? Give examples for both showing\n",
    "this property."
   ]
  },
  {
   "cell_type": "code",
   "execution_count": 10,
   "id": "d51c5b22-424f-48ae-b1ec-64d814b1792e",
   "metadata": {},
   "outputs": [
    {
     "data": {
      "text/plain": [
       "\" Mutable- Mutable object means you can modify the element, example of mutable object is List\\nImmutable- in immutable object you can't change or modify the element, example of immutable object is tuple \""
      ]
     },
     "execution_count": 10,
     "metadata": {},
     "output_type": "execute_result"
    }
   ],
   "source": [
    "\"\"\" Mutable- Mutable object means you can modify the element, example of mutable object is List\n",
    "Immutable- in immutable object you can't change or modify the element, example of immutable object is tuple \"\"\""
   ]
  },
  {
   "cell_type": "code",
   "execution_count": 12,
   "id": "0007be89-58f7-4bd7-b0de-7c6625d6b967",
   "metadata": {},
   "outputs": [],
   "source": [
    "\"example of mutable object\" \n",
    "l=[1,2,3,4,5,6,7,8,9,10]"
   ]
  },
  {
   "cell_type": "code",
   "execution_count": 13,
   "id": "c83d4998-275d-44f2-a146-e4ab8c53dc2e",
   "metadata": {},
   "outputs": [],
   "source": [
    "l[4]=\"changed value\""
   ]
  },
  {
   "cell_type": "code",
   "execution_count": 14,
   "id": "9102cd0a-6997-4f95-80ce-708743cf7397",
   "metadata": {},
   "outputs": [
    {
     "data": {
      "text/plain": [
       "[1, 2, 3, 4, 'changed value', 6, 7, 8, 9, 10]"
      ]
     },
     "execution_count": 14,
     "metadata": {},
     "output_type": "execute_result"
    }
   ],
   "source": [
    "l"
   ]
  },
  {
   "cell_type": "code",
   "execution_count": 16,
   "id": "0fede819-442b-4c7d-90b9-dbdcd8cdd213",
   "metadata": {},
   "outputs": [
    {
     "data": {
      "text/plain": [
       "list"
      ]
     },
     "execution_count": 16,
     "metadata": {},
     "output_type": "execute_result"
    }
   ],
   "source": [
    "type(l)"
   ]
  },
  {
   "cell_type": "code",
   "execution_count": 17,
   "id": "fba17731-6dda-4384-839c-c444576efea7",
   "metadata": {},
   "outputs": [],
   "source": [
    "\"example of immutable object\"\n",
    "t=(1,2,3,4,5,6,7,8,9,10)"
   ]
  },
  {
   "cell_type": "code",
   "execution_count": 19,
   "id": "e26a4a9a-9a79-472c-8438-57ad4be5d543",
   "metadata": {},
   "outputs": [
    {
     "ename": "TypeError",
     "evalue": "'tuple' object does not support item assignment",
     "output_type": "error",
     "traceback": [
      "\u001b[0;31m---------------------------------------------------------------------------\u001b[0m",
      "\u001b[0;31mTypeError\u001b[0m                                 Traceback (most recent call last)",
      "Cell \u001b[0;32mIn[19], line 1\u001b[0m\n\u001b[0;32m----> 1\u001b[0m \u001b[43mt\u001b[49m\u001b[43m[\u001b[49m\u001b[38;5;241;43m2\u001b[39;49m\u001b[43m]\u001b[49m\u001b[38;5;241m=\u001b[39m\u001b[38;5;124m\"\u001b[39m\u001b[38;5;124mchanged value\u001b[39m\u001b[38;5;124m\"\u001b[39m\n",
      "\u001b[0;31mTypeError\u001b[0m: 'tuple' object does not support item assignment"
     ]
    }
   ],
   "source": [
    "t[2]=\"changed value\""
   ]
  },
  {
   "cell_type": "code",
   "execution_count": 20,
   "id": "468df258-83ee-4057-8c1a-368c9d4a87e2",
   "metadata": {},
   "outputs": [
    {
     "data": {
      "text/plain": [
       "tuple"
      ]
     },
     "execution_count": 20,
     "metadata": {},
     "output_type": "execute_result"
    }
   ],
   "source": [
    "type(t)"
   ]
  },
  {
   "cell_type": "code",
   "execution_count": null,
   "id": "ec0ebff7-b70e-4131-8e96-9a1ce0c612a8",
   "metadata": {},
   "outputs": [],
   "source": []
  }
 ],
 "metadata": {
  "kernelspec": {
   "display_name": "Python 3 (ipykernel)",
   "language": "python",
   "name": "python3"
  },
  "language_info": {
   "codemirror_mode": {
    "name": "ipython",
    "version": 3
   },
   "file_extension": ".py",
   "mimetype": "text/x-python",
   "name": "python",
   "nbconvert_exporter": "python",
   "pygments_lexer": "ipython3",
   "version": "3.10.8"
  }
 },
 "nbformat": 4,
 "nbformat_minor": 5
}
